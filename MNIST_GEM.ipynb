{
  "nbformat": 4,
  "nbformat_minor": 0,
  "metadata": {
    "accelerator": "GPU",
    "colab": {
      "name": "MNIST_GEM.ipynb",
      "provenance": [],
      "collapsed_sections": [],
      "machine_shape": "hm"
    },
    "kernelspec": {
      "display_name": "Python 3",
      "language": "python",
      "name": "python3"
    },
    "language_info": {
      "codemirror_mode": {
        "name": "ipython",
        "version": 3
      },
      "file_extension": ".py",
      "mimetype": "text/x-python",
      "name": "python",
      "nbconvert_exporter": "python",
      "pygments_lexer": "ipython3",
      "version": "3.7.4"
    }
  },
  "cells": [
    {
      "cell_type": "markdown",
      "metadata": {
        "colab_type": "text",
        "id": "eosC0fERt6DY"
      },
      "source": [
        "# Gradient Episodic Memory"
      ]
    },
    {
      "cell_type": "code",
      "metadata": {
        "colab_type": "code",
        "id": "2uLpHMYD4iT-",
        "colab": {}
      },
      "source": [
        "import numpy as np\n",
        "import matplotlib.pyplot as plt\n",
        "\n",
        "import torch\n",
        "import torchvision\n",
        "\n",
        "import pyfiles.GEMLearning as GEMLearning"
      ],
      "execution_count": 0,
      "outputs": []
    },
    {
      "cell_type": "markdown",
      "metadata": {
        "colab_type": "text",
        "id": "m0NTE-5OtXG-"
      },
      "source": [
        "### Define P-MNIST data loader"
      ]
    },
    {
      "cell_type": "code",
      "metadata": {
        "colab_type": "code",
        "id": "ZlE3KQNSstue",
        "colab": {}
      },
      "source": [
        "class PermutedMNISTDataLoader(torchvision.datasets.MNIST):\n",
        "    def __init__(self, source='data/mnist_data', train = True, shuffle_seed = None):\n",
        "        super(PermutedMNISTDataLoader, self).__init__(source, train, download=True)\n",
        "        \n",
        "        self.train = train\n",
        "        self.num_data = 0\n",
        "        \n",
        "        if self.train:\n",
        "            self.permuted_train_data = torch.stack(\n",
        "                [img.type(dtype=torch.float32).view(-1)[shuffle_seed] / 255.0\n",
        "                    for img in self.train_data])\n",
        "            self.num_data = self.permuted_train_data.shape[0]\n",
        "            \n",
        "        else:\n",
        "            self.permuted_test_data = torch.stack(\n",
        "                [img.type(dtype=torch.float32).view(-1)[shuffle_seed] / 255.0\n",
        "                    for img in self.test_data])\n",
        "            self.num_data = self.permuted_test_data.shape[0]\n",
        "            \n",
        "            \n",
        "    def __getitem__(self, index):\n",
        "        \n",
        "        if self.train:\n",
        "            input, label = self.permuted_train_data[index], self.train_labels[index]\n",
        "        else:\n",
        "            input, label = self.permuted_test_data[index], self.test_labels[index]\n",
        "        \n",
        "        return input, label\n",
        "\n",
        "    \n",
        "    def getNumData(self):\n",
        "        return self.num_data"
      ],
      "execution_count": 0,
      "outputs": []
    },
    {
      "cell_type": "markdown",
      "metadata": {
        "colab_type": "text",
        "id": "iqgMTMVctR4K"
      },
      "source": [
        "### Set hyperparameters & get permuted MNIST"
      ]
    },
    {
      "cell_type": "code",
      "metadata": {
        "id": "zaQrmZwbSKUv",
        "colab_type": "code",
        "colab": {}
      },
      "source": [
        "batch_size = 64\n",
        "learning_rate = 1e-3\n",
        "num_task = 10\n",
        "criterion = torch.nn.CrossEntropyLoss()\n",
        "cuda_available = False\n",
        "if torch.cuda.is_available():\n",
        "    cuda_available = True"
      ],
      "execution_count": 0,
      "outputs": []
    },
    {
      "cell_type": "code",
      "metadata": {
        "colab_type": "code",
        "id": "M5l-BVows2rQ",
        "colab": {}
      },
      "source": [
        "def permute_mnist():\n",
        "    train_loader = {}\n",
        "    test_loader = {}\n",
        "    \n",
        "    train_data_num = 0\n",
        "    test_data_num = 0\n",
        "    \n",
        "    for i in range(num_task):\n",
        "        shuffle_seed = np.arange(28*28)\n",
        "        np.random.shuffle(shuffle_seed)\n",
        "        \n",
        "        train_PMNIST_DataLoader = PermutedMNISTDataLoader(train=True, shuffle_seed=shuffle_seed)\n",
        "        test_PMNIST_DataLoader = PermutedMNISTDataLoader(train=False, shuffle_seed=shuffle_seed)\n",
        "        \n",
        "        train_data_num += train_PMNIST_DataLoader.getNumData()\n",
        "        test_data_num += test_PMNIST_DataLoader.getNumData()\n",
        "        \n",
        "        train_loader[i] = torch.utils.data.DataLoader(\n",
        "                train_PMNIST_DataLoader,\n",
        "                batch_size=batch_size)\n",
        "        \n",
        "        test_loader[i] = torch.utils.data.DataLoader(\n",
        "                test_PMNIST_DataLoader,\n",
        "                batch_size=batch_size)\n",
        "    \n",
        "    return train_loader, test_loader, int(train_data_num/num_task), int(test_data_num/num_task)\n",
        "\n",
        "train_loader, test_loader, train_data_num, test_data_num = permute_mnist()"
      ],
      "execution_count": 0,
      "outputs": []
    },
    {
      "cell_type": "markdown",
      "metadata": {
        "colab_type": "text",
        "id": "xxLFhyw9tPn6"
      },
      "source": [
        "### Define Neural Net"
      ]
    },
    {
      "cell_type": "code",
      "metadata": {
        "colab_type": "code",
        "id": "5xq7gI87s7-m",
        "colab": {}
      },
      "source": [
        "class NeuralNet(torch.nn.Module):\n",
        "    def __init__(self):\n",
        "        # Always start with inheriting torch.nn.Module\n",
        "        # Ancestor class of all Neural Net module\n",
        "        super(NeuralNet, self).__init__()\n",
        "        # Linear: linear transformation\n",
        "        fc1 = torch.nn.Linear(28*28, 100)\n",
        "        fc2 = torch.nn.Linear(100, 100)\n",
        "        fc3 = torch.nn.Linear(100, 100)\n",
        "  \n",
        "        \n",
        "        self.fc_module = torch.nn.Sequential(\n",
        "            fc1,\n",
        "            torch.nn.ReLU(),\n",
        "            fc2,\n",
        "            torch.nn.ReLU(),\n",
        "            fc3\n",
        "        )\n",
        "        \n",
        "        if torch.cuda.is_available():\n",
        "            self.fc_module = self.fc_module.cuda()\n",
        "\n",
        "    def forward(self, x):\n",
        "        return self.fc_module(x)"
      ],
      "execution_count": 0,
      "outputs": []
    },
    {
      "cell_type": "markdown",
      "metadata": {
        "colab_type": "text",
        "id": "ukUD3JrixCiK"
      },
      "source": [
        "### Continual Learnig with GEM"
      ]
    },
    {
      "cell_type": "code",
      "metadata": {
        "colab_type": "code",
        "id": "Z0kcpGclwi6_",
        "scrolled": false,
        "colab": {}
      },
      "source": [
        "memsize_list = [100, 300, 1000, 3000]\n",
        "\n",
        "for mem_size in memsize_list:\n",
        "    net = NeuralNet()\n",
        "    optim = torch.optim.SGD(net.parameters(), lr=0.1)\n",
        "    gem = GEMLearning(net = net,\n",
        "                          tasks = num_task,\n",
        "                          optim = optim,\n",
        "                          criterion = criterion,\n",
        "                          mem_size = mem_size,\n",
        "                          traindata_len = train_data_num,\n",
        "                          testdata_len = test_data_num,\n",
        "                          batch_size = batch_size,\n",
        "                      margin = 0.5,\n",
        "                      eps = 0.001)\n",
        "    \n",
        "    for i in range(num_task):\n",
        "        gem.train(train_loader[i], i)\n",
        "        \n",
        "        for j in range(i+1):\n",
        "            gem.eval(test_loader[j], j)\n",
        "            \n",
        "        print(gem.R)"
      ],
      "execution_count": 0,
      "outputs": []
    }
  ]
}